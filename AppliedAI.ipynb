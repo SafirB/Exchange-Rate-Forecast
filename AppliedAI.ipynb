{
 "cells": [
  {
   "cell_type": "markdown",
   "id": "65c07bdc-df98-4bd5-a688-9caaedea146b",
   "metadata": {},
   "source": [
    "# <u>Applied AI Coursework</u>\r\n"
   ]
  },
  {
   "cell_type": "markdown",
   "id": "1985b3d3-3d8c-40e5-9c1e-e26191ef8841",
   "metadata": {},
   "source": [
    "Name: Safir-Ul-Islam Bukhari  \n",
    "ID: w1826293"
   ]
  },
  {
   "cell_type": "markdown",
   "id": "dbfa2fd0-5ec5-45ef-b9b5-209ec241380a",
   "metadata": {},
   "source": [
    "# Video Demonstration Link"
   ]
  },
  {
   "cell_type": "markdown",
   "id": "1526418f-9f0b-475a-a16d-6474829343b3",
   "metadata": {},
   "source": [
    "https://www.youtube.com/watch?v=rpLm6Jc1qhY"
   ]
  },
  {
   "cell_type": "markdown",
   "id": "8bc6df55-ee7e-471d-a618-3444ab48fe79",
   "metadata": {},
   "source": [
    "# <u>Application Area Overview</u>\n",
    "\n",
    "Chosen Problem Domain – Email and spam filtering\n"
   ]
  },
  {
   "cell_type": "markdown",
   "id": "1db04c2c-3c85-42b9-a5db-50a72095f7ef",
   "metadata": {},
   "source": [
    "# <u>Literature Review – Email and spam filtering</u>"
   ]
  },
  {
   "cell_type": "markdown",
   "id": "c20b7ee5-40ac-45d9-8a3d-b05ba0230cb4",
   "metadata": {},
   "source": [
    "Email and spam filtering is a great form of application for artificial intelligence. It aims to distinguish legitimate emails, also known as ‘ham’, from malicious emails which are known as ‘spam’. Over the years there has been multiple AI techniques developed and tailored to combat the spam emails. This review aims to explore multiple AI methods which can applied to email and spam filtering."
   ]
  },
  {
   "cell_type": "markdown",
   "id": "e55ef4ae-cf7a-434f-bd98-ad31943314b5",
   "metadata": {},
   "source": [
    "# Early Approaches to spam filtering"
   ]
  },
  {
   "cell_type": "markdown",
   "id": "0d139b55-eb60-4a7c-8c5a-f965baad4f28",
   "metadata": {},
   "source": [
    "Initially, before AI was so heavily used in everything, spam filtering relied on rule-based systems that used predefined patterns and keywords to identify spam. These systems were straightforward and simple and because of this were very easy to work around and avoid considering that spam tactics were also constantly evolving as well. This limitation showed how a more adaptive solution, such as machine learning, was needed. "
   ]
  },
  {
   "cell_type": "markdown",
   "id": "1b35cbb5-5cba-4af2-afac-d5b7b982b090",
   "metadata": {},
   "source": [
    "# Machine learning techniques"
   ]
  },
  {
   "cell_type": "markdown",
   "id": "63fa80c5-08c2-4063-b0f4-703f05200caf",
   "metadata": {},
   "source": [
    "Machine learning introduced a level of adaptability into spam filtering by letting these ML models learn from data to identify patterns which indicated the email was spam. Some key machine learning techniques used in this domain include:  \n",
    "<u>Naïve Bayes Classifier:</u> This is a model that calculates the likelihood of an email being spam based on word occurrences. This model operates under the assumption that all the features of the email are ‘conditionally independent’ given the class label. This means that a word such as ‘free’ has no connection to the word ‘win’ in the email, even though they appear together. This makes the model faster to use but this also may not always reflect reality since in reality words have influence over each other in context. So, while this assumption is often not the case in real world datasets, Naïve Bayes still performs well due to its ability to capture key patterns in the data.  \n",
    "How it works is that during the training the model is trained using a labelled dataset of emails where each email has already been tagged as spam or ham. It then calculates the probabilities of each word occurring in each spam or ham type of email.  \n",
    "<u>Decision trees:</u> Decision trees is a popular supervised learning technique used in spam filtering. This model classifies emails by making a series of decisions based on features extracted from the email. An example of this may be word frequencies, the presence of certain keywords or metadata such as sender information.  \n",
    "It works by splitting the dataset based on feature values, creating its ‘tree’ with a couple of different components:  \n",
    "The Root Node – Represents the entire dataset and splits it into subsets based on the most significant feature.  \n",
    "Decision Nodes – Nodes that represent decisions made on the features, this splits the data further into more subsets.  \n",
    "Leaf nodes – Nodes that represent the final classification, meaning it represents whether the email is spam or ham.  \n",
    "This tree is made using a training dataset and each of the splits are made to maximise information gain. A great advantage of decision trees is that they are very interpretable meaning they provide clear reasoning for their classifications. Furthermore, they are also very flexible since they can handle many data types. Once a decision tree is made it can very quickly classify new emails, which makes it useful for real time spam filtering.  \n",
    "Both techniques shown above have their advantages. Given the context of filtering spam emails either one can be used, decision trees are harder to implement however are very transparent and are good for complex relationships whereas naïve bayes features faster training which is a lot better for smaller datasets but doesn’t offer the transparency decision trees has.  \n",
    "Overall, for this specific problem domain, the size and complexity of the dataset will mainly determine which AI technique should be applied to the problem. For larger more complex datasets decision trees should be used, for smaller less complex datasets naïve bayes should be used."
   ]
  },
  {
   "cell_type": "markdown",
   "id": "9bb1caea-7f03-4d7f-9102-8dbe454d007a",
   "metadata": {},
   "source": [
    "# <u>Compare and evaluate AI techniques</u>"
   ]
  },
  {
   "cell_type": "markdown",
   "id": "9b168a26-785f-41aa-afc4-23e8e1035414",
   "metadata": {},
   "source": [
    "Filtering out spam emails using Naïve bayes, decision trees or neural networks.  \n",
    "1. <u>Naïve Bayes</u> – Naïve bayes is a model that calculates the likelihood of an email being spam or ham based on word occurrences. Is a type of supervised learning and thus requires a labelled dataset.  \n",
    "<u>Strengths</u> – Efficient, useful for real time filtering.  \n",
    "- Simple to implement and interpret.\n",
    "- Performs well with high-dimensional data, meaning the model can handle datasets where each email has a very large amount of features.\n",
    "- <u>Weaknesses</u> – The fact that the model reads all the features of an email as ‘conditionally independent’ means that it cannot completely accurately understand real world data.  \n",
    "- Can struggle with rare or unseen words in the training set.    \n",
    "- <u>Data Requirements</u> – Works best with smaller or moderately sized datasets.  \n",
    "- Dataset must be labelled, as this is a supervised learning type.  \n",
    "- Data should be vectorised in this case.  \n",
    "\n",
    "---\n",
    "2. <u>Decision Trees</u> - Decision trees classify emails by making decisions based on features such as word frequencies, metadata or the structure of the email. Each node represents a decision based on a feature, and the leaf node represents the classification result, either spam or ham in this case.  \n",
    "- <u>Strengths</u> – Very transparent and interpretable. Easy to understand and visualise the decision-making process of the AI.  \n",
    "- Can handle a wide variety of data types.  \n",
    "- Good at capturing non-linear relationships between different features.  \n",
    "- <u>Weaknesses</u> – Prone to overfitting.  \n",
    "- May struggle with high-dimensional datasets.  \n",
    "- <u>Data Requirements</u> – Requires well-structured input features.  \n",
    "- Requires labelled data as it is a supervised learning type.  \n",
    "\n",
    "---\n",
    "3. <u>Neural Networks</u> – Neural Networks simulate the human brain by learning patterns within the data. A feedforward neural network can be used for spam filtering.  \n",
    "- <u>Strengths</u> – Capable of modelling complex relationships between features.  \n",
    "- Performance improves with larger datasets. Meaning its scalable.\n",
    "\n",
    "- <u>Weaknesses</u> - Very intensive, requires more resources to train compared to other models.  \n",
    "- Can be prone to overfitting if not regulated properly.  \n",
    "- Not as interpretable compared to something like decision trees.  \n",
    " \n",
    "- <u>Data Requirements:</u> Requires a large dataset to perform well  \r\n",
    "Pre-processing steps such as vectorisation need to be taken\r\n",
    ".\r\n",
    "\r\n"
   ]
  },
  {
   "cell_type": "markdown",
   "id": "d3cee02a-7cba-4d5c-9580-550edbc0fe21",
   "metadata": {},
   "source": [
    "# <u>Implementation</u>  \n",
    "# <u>High Level Diagram</u>"
   ]
  },
  {
   "attachments": {
    "70456abe-7659-4be4-84c4-ede792e20706.png": {
     "image/png": "[encoded data removed]"
    }
   },
   "cell_type": "markdown",
   "id": "5d0df52c-d89e-4e58-9adb-77ff01fd777d",
   "metadata": {},
   "source": [
    "![Final_Diagram.png](attachment:70456abe-7659-4be4-84c4-ede792e20706.png)"
   ]
  },
  {
   "cell_type": "markdown",
   "id": "a453de15-dab7-407c-852d-8d1c25f5eaec",
   "metadata": {},
   "source": [
    "# <u>Type Of Input Data Needed/How it will be prepared</u>"
   ]
  },
  {
   "cell_type": "markdown",
   "id": "52366947-a386-4188-b7d5-53058dc18120",
   "metadata": {},
   "source": [
    "The email data will be taken from a site called kaggle. This site is useful as it provides downloads for many different datasets provided by people online. This particular dataset has labelled the data into spam and ham so its very quick and easy to implement into supervised learning models like naive bayes. Here is the link: https://www.kaggle.com/datasets/abdallahwagih/spam-emails  \n",
    "***\n",
    "Before training the model on the data there will be a small amount of pre-processing steps which will need to be taken.  \n",
    "Firstly the data have to be coded into categories for the model to read. Ham will be coded as 0 and Spam will be coded as 1.  \n",
    "The data will then have to be vectorised since machine learning models cannot process raw text. So the raw text will have to be transformed into numerical data with TF-IDF vectorization which assigns scores to words based on their frequencies in the entire dataset. This way the model can read the data. The code will also limit the features to 5000 so that we can avoid overfitting.  \n",
    "After that the data will have to be split into training and testing sets. The training set will be used to actually train the model using the dataset, this will use 80% of the data. The testing set will be used to evaluate the performance of the model using 20% of the data.  \n",
    "To evaulate the data, a confusion matrix will be used to visualise it, telling us the different metrics on how accurate the ML model was. "
   ]
  },
  {
   "cell_type": "markdown",
   "id": "7e6f4316-6c2d-4114-886e-32c508775d1a",
   "metadata": {},
   "source": [
    "# 1. Load the dataset"
   ]
  },
  {
   "cell_type": "code",
   "execution_count": 6,
   "id": "b4463106-0249-40b4-9c57-90d051ddeafa",
   "metadata": {
    "scrolled": true
   },
   "outputs": [],
   "source": [
    "# Loading Library\n",
    "import pandas as pd\n",
    "\n",
    "# Load the dataset\n",
    "dataset = pd.read_csv('Cw1_w1826293_SafirUlIslamBukhari_spam.csv')"
   ]
  },
  {
   "cell_type": "markdown",
   "id": "35a3121c-3745-4b81-b129-1e1f7376f08b",
   "metadata": {},
   "source": [
    "# 2. Pre-Process the data"
   ]
  },
  {
   "cell_type": "code",
   "execution_count": 8,
   "id": "6261352e-61b1-403d-9cc3-de61e00f1a96",
   "metadata": {},
   "outputs": [
    {
     "name": "stdout",
     "output_type": "stream",
     "text": [
      "data vectorised\n"
     ]
    }
   ],
   "source": [
    "# Loading Library\n",
    "from sklearn.feature_extraction.text import TfidfVectorizer\n",
    "\n",
    "# code the labels so that ham is 0 and spam is 1\n",
    "dataset['Category'] = dataset['Category'].map({'ham': 0, 'spam': 1})\n",
    "\n",
    "# Use Vectorizer to transform the email messages\n",
    "vectorizer = TfidfVectorizer(stop_words='english', max_features=5000)  # Limit to 5000 features\n",
    "X = vectorizer.fit_transform(dataset['Message'])\n",
    "y = dataset['Category']\n",
    "\n",
    "print(\"data vectorised\")\n"
   ]
  },
  {
   "cell_type": "markdown",
   "id": "cd3f5e04-9ae9-4679-80d6-ff7d73596321",
   "metadata": {},
   "source": [
    "# 3. Splitting data"
   ]
  },
  {
   "cell_type": "code",
   "execution_count": 10,
   "id": "f56868ac-7389-46b5-8585-f9f08674579b",
   "metadata": {},
   "outputs": [
    {
     "name": "stdout",
     "output_type": "stream",
     "text": [
      "Data split\n",
      "Training set size: 4457 samples\n",
      "Testing set size: 1115 samples\n"
     ]
    }
   ],
   "source": [
    "# Loading Library\n",
    "from sklearn.model_selection import train_test_split\n",
    "\n",
    "# Split the dataset into training and testing sets\n",
    "X_train, X_test, y_train, y_test = train_test_split(X, y, test_size=0.2, random_state=42)\n",
    "\n",
    "# Tells us the sample size of training and testing data\n",
    "print(\"Data split\")\n",
    "print(f\"Training set size: {X_train.shape[0]} samples\")\n",
    "print(f\"Testing set size: {X_test.shape[0]} samples\")\n"
   ]
  },
  {
   "cell_type": "markdown",
   "id": "4519d784-1496-4470-8f2f-328db69ffa6e",
   "metadata": {},
   "source": [
    "# 4. Training Naive Bayes Model"
   ]
  },
  {
   "cell_type": "code",
   "execution_count": 12,
   "id": "d7e23ba4-2a9c-4204-8231-81f0f6985edd",
   "metadata": {},
   "outputs": [
    {
     "name": "stdout",
     "output_type": "stream",
     "text": [
      "Model Trained\n"
     ]
    }
   ],
   "source": [
    "# Loading Library\n",
    "from sklearn.naive_bayes import MultinomialNB\n",
    "\n",
    "# Train the Naive Bayes model\n",
    "nb_model = MultinomialNB()\n",
    "nb_model.fit(X_train, y_train)\n",
    "\n",
    "print(\"Model Trained\")\n"
   ]
  },
  {
   "cell_type": "markdown",
   "id": "8ce70dfd-7e29-47e5-8cdb-18c807f60b54",
   "metadata": {},
   "source": [
    "# 5. Evaluating the model"
   ]
  },
  {
   "cell_type": "code",
   "execution_count": 14,
   "id": "866ded7f-737a-4e75-aab1-09ae5d9da52c",
   "metadata": {},
   "outputs": [
    {
     "name": "stdout",
     "output_type": "stream",
     "text": [
      "Accuracy: 0.98\n",
      "\n",
      "Confusion Matrix:\n",
      "[[966   0]\n",
      " [ 20 129]]\n",
      "\n",
      "Precision Report:\n",
      "              precision    recall  f1-score   support\n",
      "\n",
      "           0       0.98      1.00      0.99       966\n",
      "           1       1.00      0.87      0.93       149\n",
      "\n",
      "    accuracy                           0.98      1115\n",
      "   macro avg       0.99      0.93      0.96      1115\n",
      "weighted avg       0.98      0.98      0.98      1115\n",
      "\n"
     ]
    }
   ],
   "source": [
    "# Loading Library\n",
    "from sklearn.metrics import accuracy_score, classification_report, confusion_matrix\n",
    "\n",
    "# Make predictions based on the test set\n",
    "y_pred = nb_model.predict(X_test)\n",
    "\n",
    "# Check the models performance\n",
    "accuracy = accuracy_score(y_test, y_pred)\n",
    "conf_matrix = confusion_matrix(y_test, y_pred)\n",
    "classification_rep = classification_report(y_test, y_pred)\n",
    "\n",
    "# Print the metrics\n",
    "print(f\"Accuracy: {accuracy:.2f}\")\n",
    "print(\"\\nConfusion Matrix:\")\n",
    "print(conf_matrix)\n",
    "print(\"\\nPrecision Report:\")\n",
    "print(classification_rep)\n"
   ]
  },
  {
   "cell_type": "markdown",
   "id": "9ad6b4ea-e274-42cd-aac7-9459e34610ee",
   "metadata": {},
   "source": [
    "# <u>Software Testing</u>"
   ]
  },
  {
   "cell_type": "markdown",
   "id": "e3779cf2-050a-4ae5-8c19-ecbad3a0ed88",
   "metadata": {},
   "source": [
    "One way the code above was tested was splitting the data into training and testing sets.  \n",
    "With this the models efficiency can be evaluated after its done training to see how accurately it predicts the data using a confusion matrix to visualise the data.  \n",
    "The Expected output of the data would be that it accurately predicts spam emails most of the time after training.  \n",
    "From the confusion matrix in the code we can see that the accuracy of the naive bayes model is 98%. This shows that the model is very accurate at correctly classifying the data as spam or ham.  \n",
    "It may not be at 100% due to a number of reasons, for example, increasing the number of allowed features may increase accuracy further, though it also increases the risk of overfitting and could negatively impact the results.  \n",
    "Overall, the results of the model show that it accurately predicts data which aligns with the expected results."
   ]
  },
  {
   "cell_type": "markdown",
   "id": "636061f7-45ca-4467-a073-78c2b0055702",
   "metadata": {},
   "source": [
    "# <u>Evalaute Results</u>"
   ]
  },
  {
   "cell_type": "markdown",
   "id": "13391155-737f-4338-a1cc-d3d99ef0f0d6",
   "metadata": {},
   "source": [
    "To evaluate the results of the model a confusion matrix was implemented into the code. This confusion matrix tells us some different metrics to evaulate the model, most importantly it tells us the overall accuracy of the model.  \n",
    "The accuracy of the model was 0.98 which tells us it was classifying data with 98% accuracy.  \n",
    "From the matrix we can see 966 True positives and 0 false positives, meaning all ham emails were correctly classified and not classified incorrectly. This shows full accuracy in this area of classification.  \n",
    "There are 20 false negatives shown in the confusion matrix, meaning 20 spam emails where misclassified as ham, this shows there is a small amount of inaccuracy when classifying spam emails. Sometimes the model not recognise the emails as spam.  \n",
    "Finally we can see 129 true positives in the confusion matrix, this means 129 of the spam emails were correctly identified as spam.  \n",
    "The small inaccuracy with the spam emails could be due to a number of reasons.  \n",
    "One of these reasons may be due to the number of spam emails compared to the number of ham emails being quite unbalanced, in this case there were a lot more ham emails than spam emails. This could cause the model to not accurately train the spam side of the emails as it had a much smaller dataset to understand and train from."
   ]
  },
  {
   "cell_type": "markdown",
   "id": "9d271b5c-9fb8-4bee-aba5-8c2c796485d2",
   "metadata": {},
   "source": [
    "# Strength of results within domain"
   ]
  },
  {
   "cell_type": "markdown",
   "id": "0e1c1557-cc8d-40eb-acf4-89fea9ab43f6",
   "metadata": {},
   "source": [
    "From the evaluation of the model there is a couple of takeaways to be seen.  \n",
    "Strengths:  \n",
    "- High overall accuracy with no false positives, meaning users can confidently assume that no important emails will be misclassified as spam.\n",
    "- The overall speed of the model makes it ideal for real-time spam filtering\n",
    "- High rate of detecting and correctly classifying spam emails.\n",
    "\n",
    "Weaknesses:\n",
    "- Spam recall is not 100%, meaning users are not fully protected from spam emails.\n",
    "- Naive bayes could struggle adapting to more sophisticated emails, given the evolution of spam emails it may be hard for it to constantly keep up."
   ]
  },
  {
   "cell_type": "markdown",
   "id": "1e08e4fd-cf42-4242-bfcd-6c0458e64251",
   "metadata": {},
   "source": [
    "# Conclusion"
   ]
  },
  {
   "cell_type": "markdown",
   "id": "2c99fbb0-c4ed-4755-87d9-9535f03986d9",
   "metadata": {},
   "source": [
    "Overall, the results analysed through the evaluation show that the naive bayes model is effective at classifying and differentiating spam and ham emails. In this particular case it is more effective in ham classification but that may be due to a dataset imbalance among other factors.  \n",
    "Improvements are needed to improve its detection accuracy with spam emails so that they dont leak into the main inbox. However, given the speed of this model, it is still suitable for real time spam detection with minimal risk of mistakenly classifying legitimate and important ham emails as spam, while also providing adequate spam detection."
   ]
  },
  {
   "cell_type": "markdown",
   "id": "d02349df-c7c7-4c9c-928a-1652d2a590da",
   "metadata": {},
   "source": [
    "# <u>References</u>"
   ]
  },
  {
   "cell_type": "markdown",
   "id": "95d63ec1-29e4-42e2-92fe-7ebc09deb92f",
   "metadata": {},
   "source": [
    "Blanzieri, E., Bryl, A. A survey of learning-based techniques of email spam filtering.  \n",
    "\n",
    "Al-Mailem, M.A. and Al-Azmi, M.A., (2018). Comparison of decision tree algorithms for spam e-mail filtering. Proceedings of the 2018 International Conference on Computer and Applications  \n",
    "\n",
    "https://www.kaggle.com/datasets/abdallahwagih/spam-emails - Dataset used  \n",
    "\n",
    "Ajani, T. and Ferrante, T. (2024). Cyber-analytics: An Examination of Machine Learning Algorithms for Spam Filtering.  \n",
    "\n",
    "ArXiv (2010). Modeling Spammer Behavior: Naïve Bayes vs. Artificial Neural Networks.  \n",
    "\n",
    "Bhatnagar, P. and Degadwala, S. (2023). A Comprehensive Review on Email Spam Classification with Machine Learning Methods  \n",
    "\n",
    "DE Conference Publication (2022). Content Based Spam Email Classification using Supervised SVM, Decision Trees and Naive Bayes  \n",
    "\n",
    "Cui, J. and Li, X. (2022). Content Based Spam Email Classification using Supervised SVM, Decision Trees and Naive Bayes."
   ]
  }
 ],
 "metadata": {
  "kernelspec": {
   "display_name": "Python 3 (ipykernel)",
   "language": "python",
   "name": "python3"
  },
  "language_info": {
   "codemirror_mode": {
    "name": "ipython",
    "version": 3
   },
   "file_extension": ".py",
   "mimetype": "text/x-python",
   "name": "python",
   "nbconvert_exporter": "python",
   "pygments_lexer": "ipython3",
   "version": "3.12.4"
  }
 },
 "nbformat": 4,
 "nbformat_minor": 5
}
